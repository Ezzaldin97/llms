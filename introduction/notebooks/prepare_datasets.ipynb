{
 "cells": [
  {
   "cell_type": "code",
   "execution_count": 1,
   "metadata": {},
   "outputs": [
    {
     "name": "stderr",
     "output_type": "stream",
     "text": [
      "d:\\llms\\.venv\\lib\\site-packages\\tqdm\\auto.py:21: TqdmWarning: IProgress not found. Please update jupyter and ipywidgets. See https://ipywidgets.readthedocs.io/en/stable/user_install.html\n",
      "  from .autonotebook import tqdm as notebook_tqdm\n"
     ]
    }
   ],
   "source": [
    "from datasets import load_dataset\n",
    "import os\n",
    "import pandas as pd"
   ]
  },
  {
   "cell_type": "code",
   "execution_count": 2,
   "metadata": {},
   "outputs": [],
   "source": [
    "## load a pretraining dataset to perform some data cleaning steps to ensure quality...\n",
    "pretraining_dataset = load_dataset(\n",
    "    \"upstage/Pretraining_Dataset\",\n",
    "    cache_dir=\"../../assets/data\",\n",
    "    split=\"train\"\n",
    ")"
   ]
  },
  {
   "cell_type": "code",
   "execution_count": 3,
   "metadata": {},
   "outputs": [
    {
     "name": "stdout",
     "output_type": "stream",
     "text": [
      "\"SEVENTEEN SHADES OF LOVE\": After her divorce Julia was able to take everything under control and to move on. She became successful and happy. There is no place for romance in her life. But is it possible to live without love?\n",
      "\"A HAPPY ENDING IN A BIG CITY\": She travels from one city to another, meeting the same kind of men who always abandon her. She doesn't know that the true love is waiting for her far, far away.\n",
      "And more stories... They are nostalgic and dreamy but by no means they are fantasy or fairy tales. These romance stories center around ordinary people who are swept away by love and passion. It is all truth.\n",
      "Adventurous and glamorous things might happen to everyone. They happen to all of us although sometimes we just don't realize.\n",
      "Available on Amazon in Kindle and Paperback editions. Also on Audiobook (Russian edition only).\n",
      "​Modern art is often scoffed at. There are many just don't get it - the unrestrained translation of mind in our visible space. The others have no way to prove they do. They are just smitten by the work, not necessarily because they agree with the objective but because they appreciate the artist's acknowledgement of a free flowing mind. I am the appreciator. Olga Toprover is the artist.\n",
      "Seventeen shades of love begins with a most oh-so-typical fantasy sequence from a woman who falls for a stranger at a gas station. It turns out to be a dream. What follows is a first drift of this artwork, as the girl who had been craving for some hormonal re-ignition in life gets upset when she finally finds it. For her, it signifies the loss of rare freedom she'd been enjoying from the traps of illogical love. The author's magic really only comes forth towards the end of that first chapter, with a trivial foam sticking out of a certain driver's seat making all the difference. The end result is amusement. And that effect is sustained throughout the rest of the book.\n",
      "Ms. Toprover spends the first two chapters acclimatising us to her work. She only starts to unfold it thereafter. So, what kind of art is it? It is vacuous swish of blue paint which changes shades as it runs in such a way that viewers are compelled to anticipate its transition to a new colour. But blue remains blue. All that changes is a realization that the elusive second colour was present throughout as the colour white in the background. As is described for one of the characters in the story - a little girl - the author paints not just the world as it is, but the emotions behind everything.\n",
      "Seventeen shades of love that we see through each little story in this book are all distinct in their settings. Yet, it is interesting how much they share in common. They are all narrations of protagonists - mostly women - battling a difficult memory, coming to terms with novel situations and beginnings, an unending fusion of what-ifs and why-nots, failed attempts at justifications, denial of an unflinching hope, and a silent, eternally insurmountable build-up of a mountain of emotions that evaporate in one moment of surprise. Love, as the author shows us, is just an approach we take to life. It is illogical, on the face of our social demeanour, and a reflection of who we actually are - which is perhaps why we can never transform it into words or thoughts with utter clarity. Personally, I find it sad. The author's acknowledgement of this condition as it is, without pretence or explanations, is precisely what is best about this book.\n",
      "The writing, translated into English, is without complications. That says a lot, for most of the story is a 1st person narrative of conflicting thoughts. This inevitably brings in a lot of abstracts - an essential ingredient. For instance, \"Who said the sky over Canada is bluer? If that were the case she might have formed some slightly more intelligent thoughts.\" Olga Toprover reminds me of Woody Allen. Her Pièce De Résistance comes right in the end with short scripts of life in Calfiornia - poppable candies of momentary hullabaloo in the author's experiences of day-to-day life. Loved the one with a phone call to customer care.\n",
      "The thing with an artistic expression is that its interpretation is left to the observers. Consequently, I can only guess as to the author's primary incentive. To think of it, that itself may be one! So read this book to deduce your psyche in matters of love and people.\n"
     ]
    }
   ],
   "source": [
    "#### print an example of pretraining dataset...\n",
    "print(pretraining_dataset[540]['text'])"
   ]
  },
  {
   "cell_type": "code",
   "execution_count": 4,
   "metadata": {},
   "outputs": [],
   "source": [
    "### load an instruction dataset to compare it to the pretraining dataset...\n",
    "instruction_dataset = load_dataset(\n",
    "    \"gbharti/finance-alpaca\",\n",
    "    cache_dir = \"../../assets/data\"\n",
    ")"
   ]
  },
  {
   "cell_type": "code",
   "execution_count": 5,
   "metadata": {},
   "outputs": [
    {
     "data": {
      "text/plain": [
       "{'text': '',\n",
       " 'instruction': 'Should you co-sign a personal loan for a friend/family member? Why/why not?',\n",
       " 'input': '',\n",
       " 'output': 'I know this question has a lot of answers already, but I feel the answers are phrased either strongly against, or mildly for, co-signing. What it amounts down to is that this is a personal choice. You cannot receive reliable information as to whether or not co-signing this loan is a good move due to lack of information. The person involved is going to know the person they would be co-signing for, and the people on this site will only have their own personal preferences of experiences to draw from. You know if they are reliable, if they will be able to pay off the loan without need for the banks to come after you.  This site can offer general theories, but I think it should be kept in mind that this is wholly a personal decision for the person involved, and them alone to make based on the facts that they know and we do not.'}"
      ]
     },
     "execution_count": 5,
     "metadata": {},
     "output_type": "execute_result"
    }
   ],
   "source": [
    "### show an example of instruction dataset, and compare it to the pretraining dataset examples...\n",
    "instruction_dataset['train'][500]"
   ]
  },
  {
   "cell_type": "markdown",
   "metadata": {},
   "source": [
    "### Conclusion:\n",
    "\n",
    "- pretraining examples are large text chunks.\n",
    "- Instruction dataset examples are (Instruction, Input, Output)"
   ]
  },
  {
   "cell_type": "code",
   "execution_count": 6,
   "metadata": {},
   "outputs": [
    {
     "name": "stderr",
     "output_type": "stream",
     "text": [
      "d:\\llms\\.venv\\lib\\site-packages\\transformers\\tokenization_utils_base.py:1601: FutureWarning: `clean_up_tokenization_spaces` was not set. It will be set to `True` by default. This behavior will be depracted in transformers v4.45, and will be then set to `False` by default. For more details check this issue: https://github.com/huggingface/transformers/issues/31884\n",
      "  warnings.warn(\n"
     ]
    }
   ],
   "source": [
    "### first I will load any language model tokenizer.\n",
    "### I will use it to count the number of tokens in pretraining examples..\n",
    "from transformers import AutoTokenizer\n",
    "\n",
    "gpt2_tokenizer = AutoTokenizer.from_pretrained(\n",
    "    \"gpt2\"\n",
    ")"
   ]
  },
  {
   "cell_type": "code",
   "execution_count": 7,
   "metadata": {},
   "outputs": [],
   "source": [
    "import matplotlib.pyplot as plt\n",
    "import seaborn as sns\n",
    "\n",
    "def tokens_histogram(data, col, title):\n",
    "    token_cnts = [len(gpt2_tokenizer.tokenize(example[col])) for example in data]\n",
    "    sns.set_style(\"whitegrid\")\n",
    "    plt.figure(figsize=(15, 6))\n",
    "    plt.hist(token_cnts, bins=50, color='#3498db', edgecolor='black')\n",
    "    plt.title(title, fontsize=16)\n",
    "    plt.xlabel(\"Number of tokens\", fontsize=14)\n",
    "    plt.ylabel(\"Number of examples\", fontsize=14)\n",
    "    plt.xticks(fontsize=12)\n",
    "    plt.yticks(fontsize=12)\n",
    "    plt.tight_layout()\n",
    "    plt.show()"
   ]
  },
  {
   "cell_type": "code",
   "execution_count": 8,
   "metadata": {},
   "outputs": [
    {
     "name": "stderr",
     "output_type": "stream",
     "text": [
      "Token indices sequence length is longer than the specified maximum sequence length for this model (4496 > 1024). Running this sequence through the model will result in indexing errors\n"
     ]
    },
    {
     "data": {
      "image/png": "[encoded data removed]",
      "text/plain": [
       "<Figure size 1500x600 with 1 Axes>"
      ]
     },
     "metadata": {},
     "output_type": "display_data"
    }
   ],
   "source": [
    "tokens_histogram(pretraining_dataset, \"text\", \"distribution of pretraining examples\")"
   ]
  },
  {
   "cell_type": "code",
   "execution_count": 8,
   "metadata": {},
   "outputs": [],
   "source": [
    "### let's now remove short examples that have less than 4 lines...\n",
    "import heapq\n",
    "\n",
    "def length_filter(x):\n",
    "    lines = x['text'].split(\"\\n\")\n",
    "    if (\n",
    "        len(lines) < 4\n",
    "        or min(heapq.nlargest(4, [len(line) for line in lines])) < 4\n",
    "    ):\n",
    "        return False\n",
    "    return True"
   ]
  },
  {
   "cell_type": "code",
   "execution_count": 9,
   "metadata": {},
   "outputs": [
    {
     "name": "stderr",
     "output_type": "stream",
     "text": [
      "Filter: 100%|██████████| 60000/60000 [00:07<00:00, 7637.66 examples/s] \n"
     ]
    }
   ],
   "source": [
    "cleaned_pretraining_dataset = pretraining_dataset.filter(\n",
    "    length_filter,\n",
    "    load_from_cache_file=False\n",
    ")"
   ]
  },
  {
   "cell_type": "code",
   "execution_count": 10,
   "metadata": {},
   "outputs": [
    {
     "data": {
      "text/plain": [
       "48278"
      ]
     },
     "execution_count": 10,
     "metadata": {},
     "output_type": "execute_result"
    }
   ],
   "source": [
    "### number of examples decreased from 60K to nearly 48K...\n",
    "cleaned_pretraining_dataset.num_rows"
   ]
  },
  {
   "cell_type": "code",
   "execution_count": 12,
   "metadata": {},
   "outputs": [
    {
     "data": {
      "image/png": "[encoded data removed]",
      "text/plain": [
       "<Figure size 1500x600 with 1 Axes>"
      ]
     },
     "metadata": {},
     "output_type": "display_data"
    }
   ],
   "source": [
    "tokens_histogram(cleaned_pretraining_dataset, \"text\", \"distribution of cleaned pretraining examples\")"
   ]
  },
  {
   "cell_type": "code",
   "execution_count": 28,
   "metadata": {},
   "outputs": [
    {
     "data": {
      "text/plain": [
       "((0, 4373, 'ENGLISH', 'en'),)"
      ]
     },
     "execution_count": 28,
     "metadata": {},
     "output_type": "execute_result"
    }
   ],
   "source": [
    "### filter out non-english text...\n",
    "### try pycld2 as our language detector....\n",
    "import pycld2 as cld2\n",
    "\n",
    "isReliable, textBytesFound, details, vectors = cld2.detect(\n",
    "    pretraining_dataset[540]['text'],\n",
    "    returnVectors = True\n",
    ")\n",
    "\n",
    "vectors"
   ]
  },
  {
   "cell_type": "code",
   "execution_count": 30,
   "metadata": {},
   "outputs": [],
   "source": [
    "def filter_non_english(example):\n",
    "    filtered = \"\"\n",
    "    \"\"\"Filter out non-English words from a list of words.\"\"\"\n",
    "    try:\n",
    "        isReliable, textBytesFound, details, vectors = cld2.detect(\n",
    "            example['text'],\n",
    "            returnVectors = True\n",
    "        )\n",
    "    except cld2.error:\n",
    "        isReliable = False\n",
    "    if isReliable:\n",
    "        for vector in vectors:\n",
    "            if vector[3] == \"en\":\n",
    "                filtered += example['text'][vector[0]:vector[1]]\n",
    "        return filtered"
   ]
  },
  {
   "cell_type": "code",
   "execution_count": 31,
   "metadata": {},
   "outputs": [
    {
     "name": "stderr",
     "output_type": "stream",
     "text": [
      "Filter:   0%|          | 0/48278 [00:00<?, ? examples/s]"
     ]
    },
    {
     "name": "stderr",
     "output_type": "stream",
     "text": [
      "Filter: 100%|██████████| 48278/48278 [00:33<00:00, 1423.25 examples/s]\n"
     ]
    }
   ],
   "source": [
    "cleaned_pretraining_dataset = cleaned_pretraining_dataset.filter(\n",
    "    filter_non_english,\n",
    "    load_from_cache_file=False\n",
    ")"
   ]
  },
  {
   "cell_type": "code",
   "execution_count": 32,
   "metadata": {},
   "outputs": [
    {
     "data": {
      "text/plain": [
       "45681"
      ]
     },
     "execution_count": 32,
     "metadata": {},
     "output_type": "execute_result"
    }
   ],
   "source": [
    "cleaned_pretraining_dataset.num_rows"
   ]
  },
  {
   "cell_type": "code",
   "execution_count": 51,
   "metadata": {},
   "outputs": [],
   "source": [
    "def deduplication(data):\n",
    "    def dedup_func(x):\n",
    "        if x['text'] in unique_text:\n",
    "            return False\n",
    "        else:\n",
    "            unique_text.add(x['text'])\n",
    "            return True\n",
    "\n",
    "    unique_text = set()\n",
    "\n",
    "    data = data.filter(dedup_func, load_from_cache_file=False)\n",
    "    return data"
   ]
  },
  {
   "cell_type": "code",
   "execution_count": 52,
   "metadata": {},
   "outputs": [
    {
     "name": "stderr",
     "output_type": "stream",
     "text": [
      "Filter: 100%|██████████| 45681/45681 [00:07<00:00, 6228.34 examples/s] \n"
     ]
    }
   ],
   "source": [
    "### remove duplicate text chunks..\n",
    "cleaned_pretraining_dataset = deduplication(cleaned_pretraining_dataset)"
   ]
  },
  {
   "cell_type": "code",
   "execution_count": 54,
   "metadata": {},
   "outputs": [
    {
     "data": {
      "text/plain": [
       "38058"
      ]
     },
     "execution_count": 54,
     "metadata": {},
     "output_type": "execute_result"
    }
   ],
   "source": [
    "cleaned_pretraining_dataset.num_rows"
   ]
  },
  {
   "cell_type": "code",
   "execution_count": 56,
   "metadata": {},
   "outputs": [],
   "source": [
    "def find_duplicates(sentence):\n",
    "    unique = set()\n",
    "    duplicate_chars = 0\n",
    "    duplicate_element = 0\n",
    "    for element in sentence:\n",
    "        if element in unique:\n",
    "            duplicate_chars += len(element)\n",
    "            duplicate_element += 1\n",
    "        else:\n",
    "            unique.add(element)\n",
    "    return duplicate_chars, duplicate_element"
   ]
  },
  {
   "cell_type": "code",
   "execution_count": 50,
   "metadata": {},
   "outputs": [],
   "source": [
    "import re\n",
    "\n",
    "def filter_repetation(x):\n",
    "    text = x['text']\n",
    "    paragraphs = re.compile(r\"\\n{2,}\").split(text.strip())\n",
    "    paragraphs_duplicates, char_duplicates = find_duplicates(paragraphs)\n",
    "    if paragraphs_duplicates / len(paragraphs) > 0.3:\n",
    "        return False\n",
    "    if char_duplicates / len(text) > 0.2:\n",
    "        return False\n",
    "    return True"
   ]
  },
  {
   "cell_type": "code",
   "execution_count": 57,
   "metadata": {},
   "outputs": [
    {
     "name": "stderr",
     "output_type": "stream",
     "text": [
      "Filter:   0%|          | 0/38058 [00:00<?, ? examples/s]"
     ]
    },
    {
     "name": "stderr",
     "output_type": "stream",
     "text": [
      "Filter: 100%|██████████| 38058/38058 [00:19<00:00, 1945.01 examples/s]\n"
     ]
    }
   ],
   "source": [
    "### remove chunks that has duplications in its elements...\n",
    "\n",
    "cleaned_pretraining_dataset = cleaned_pretraining_dataset.filter(\n",
    "    filter_repetation,\n",
    "    load_from_cache_file=False\n",
    ")"
   ]
  },
  {
   "cell_type": "code",
   "execution_count": 59,
   "metadata": {},
   "outputs": [
    {
     "name": "stderr",
     "output_type": "stream",
     "text": [
      "Creating parquet from Arrow format: 100%|██████████| 38/38 [00:07<00:00,  5.20ba/s]\n"
     ]
    },
    {
     "data": {
      "text/plain": [
       "191775098"
      ]
     },
     "execution_count": 59,
     "metadata": {},
     "output_type": "execute_result"
    }
   ],
   "source": [
    "### save to disk..\n",
    "cleaned_pretraining_dataset.to_parquet('../../assets/data/cleaned_english_pretraining_data.parquet')"
   ]
  },
  {
   "cell_type": "code",
   "execution_count": null,
   "metadata": {},
   "outputs": [],
   "source": []
  }
 ],
 "metadata": {
  "kernelspec": {
   "display_name": ".venv",
   "language": "python",
   "name": "python3"
  },
  "language_info": {
   "codemirror_mode": {
    "name": "ipython",
    "version": 3
   },
   "file_extension": ".py",
   "mimetype": "text/x-python",
   "name": "python",
   "nbconvert_exporter": "python",
   "pygments_lexer": "ipython3",
   "version": "3.10.0"
  }
 },
 "nbformat": 4,
 "nbformat_minor": 2
}
