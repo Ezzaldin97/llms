{
 "cells": [
  {
   "cell_type": "code",
   "execution_count": 1,
   "metadata": {},
   "outputs": [],
   "source": [
    "import sys\n",
    "sys.path.append('..')\n",
    "from bpe.pytokenizer.tokenizer import BPETokenizer"
   ]
  },
  {
   "cell_type": "code",
   "execution_count": 2,
   "metadata": {},
   "outputs": [],
   "source": [
    "tokenizer = BPETokenizer()"
   ]
  },
  {
   "cell_type": "code",
   "execution_count": 3,
   "metadata": {},
   "outputs": [
    {
     "name": "stderr",
     "output_type": "stream",
     "text": [
      "Downloading readme: 100%|██████████| 123/123 [00:00<00:00, 615B/s]\n",
      "Downloading data: 100%|██████████| 67/67 [00:04<00:00, 14.84files/s]\n",
      "Generating train split: 100%|██████████| 3598/3598 [00:03<00:00, 1163.65 examples/s]\n"
     ]
    }
   ],
   "source": [
    "from datasets import load_dataset\n",
    "\n",
    "ar_ds = load_dataset(\n",
    "    \"Mars203020/arabic_medical_dialogue\",split='train',\n",
    "    cache_dir=\"../assets/data\",\n",
    ")"
   ]
  },
  {
   "cell_type": "code",
   "execution_count": 4,
   "metadata": {},
   "outputs": [
    {
     "data": {
      "text/plain": [
       "Dataset({\n",
       "    features: ['text'],\n",
       "    num_rows: 3598\n",
       "})"
      ]
     },
     "execution_count": 4,
     "metadata": {},
     "output_type": "execute_result"
    }
   ],
   "source": [
    "ar_ds"
   ]
  },
  {
   "cell_type": "code",
   "execution_count": 10,
   "metadata": {},
   "outputs": [
    {
     "data": {
      "text/plain": [
       "'الدكتور: أمم طيب، وهل عندك أي أمراض مزمنة أو تاخذين أي أدوية بشكل منتظم؟'"
      ]
     },
     "execution_count": 10,
     "metadata": {},
     "output_type": "execute_result"
    }
   ],
   "source": [
    "ar_ds['text'][500]"
   ]
  },
  {
   "cell_type": "code",
   "execution_count": 16,
   "metadata": {},
   "outputs": [],
   "source": [
    "#### convert the dataset into .txt file...\n",
    "def write_to_text_file():\n",
    "    for idx in range(ar_ds.shape[0]):\n",
    "        # Get the current row\n",
    "        row = ar_ds[idx]\n",
    "        with open('../assets/data/arabic_medical_dialogue.txt', 'a', encoding='utf-8') as f:\n",
    "            sentence = row['text']\n",
    "            if len(sentence) > 0:\n",
    "                f.write(sentence + '\\n')"
   ]
  },
  {
   "cell_type": "code",
   "execution_count": 17,
   "metadata": {},
   "outputs": [],
   "source": [
    "write_to_text_file()"
   ]
  },
  {
   "cell_type": "code",
   "execution_count": 18,
   "metadata": {},
   "outputs": [
    {
     "name": "stderr",
     "output_type": "stream",
     "text": [
      "Training: 100%|██████████| 4744/4744 [14:27<00:00,  5.47it/s]\n"
     ]
    }
   ],
   "source": [
    "tokenizer.train(\n",
    "    '../assets/data/arabic_medical_dialogue.txt',\n",
    "    vocab_size=5_000,\n",
    ")"
   ]
  },
  {
   "cell_type": "code",
   "execution_count": 19,
   "metadata": {},
   "outputs": [
    {
     "data": {
      "text/plain": [
       "['هل', ' ممكن', ' أس', 'أ', 'ل', ' الدكتور', ' سؤال', ' بسيط']"
      ]
     },
     "execution_count": 19,
     "metadata": {},
     "output_type": "execute_result"
    }
   ],
   "source": [
    "tokenizer.tokenize(\n",
    "    'هل ممكن أسأل الدكتور سؤال بسيط'\n",
    ")"
   ]
  },
  {
   "cell_type": "code",
   "execution_count": 20,
   "metadata": {},
   "outputs": [
    {
     "data": {
      "text/plain": [
       "['الس', 'لام عليكم', ' يارب', ' تكون', 'وا', ' بخير']"
      ]
     },
     "execution_count": 20,
     "metadata": {},
     "output_type": "execute_result"
    }
   ],
   "source": [
    "tokenizer.tokenize(\n",
    "    'السلام عليكم يارب تكونوا بخير'\n",
    ")"
   ]
  },
  {
   "cell_type": "code",
   "execution_count": 21,
   "metadata": {},
   "outputs": [],
   "source": [
    "tokenizer.save('ar_tokenizer', '../assets/tokenizers')"
   ]
  },
  {
   "cell_type": "code",
   "execution_count": null,
   "metadata": {},
   "outputs": [],
   "source": []
  }
 ],
 "metadata": {
  "kernelspec": {
   "display_name": ".venv",
   "language": "python",
   "name": "python3"
  },
  "language_info": {
   "codemirror_mode": {
    "name": "ipython",
    "version": 3
   },
   "file_extension": ".py",
   "mimetype": "text/x-python",
   "name": "python",
   "nbconvert_exporter": "python",
   "pygments_lexer": "ipython3",
   "version": "3.10.0"
  }
 },
 "nbformat": 4,
 "nbformat_minor": 2
}
